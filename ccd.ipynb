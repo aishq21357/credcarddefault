{
 "cells": [
  {
   "cell_type": "markdown",
   "id": "deaa1243",
   "metadata": {},
   "source": [
    "## Libraries"
   ]
  },
  {
   "cell_type": "code",
   "execution_count": 54,
   "id": "1385a3d7",
   "metadata": {
    "ExecuteTime": {
     "end_time": "2022-04-09T06:27:29.267693Z",
     "start_time": "2022-04-09T06:27:29.251501Z"
    }
   },
   "outputs": [],
   "source": [
    "import pandas as pd\n",
    "from sklearn.model_selection import train_test_split\n",
    "from sklearn import tree\n",
    "from sklearn.metrics import confusion_matrix\n",
    "from sklearn.ensemble import GradientBoostingClassifier\n",
    "from sklearn import linear_model\n",
    "import joblib"
   ]
  },
  {
   "cell_type": "code",
   "execution_count": 3,
   "id": "b91fdba4",
   "metadata": {
    "ExecuteTime": {
     "end_time": "2022-04-09T05:45:13.085333Z",
     "start_time": "2022-04-09T05:45:13.038452Z"
    }
   },
   "outputs": [],
   "source": [
    "ccd = pd.read_csv(\"C:/Users/starl/Downloads/Credit Card Default II (balance).csv\")"
   ]
  },
  {
   "cell_type": "code",
   "execution_count": 4,
   "id": "1e32450b",
   "metadata": {
    "ExecuteTime": {
     "end_time": "2022-04-09T05:45:18.167559Z",
     "start_time": "2022-04-09T05:45:18.104689Z"
    }
   },
   "outputs": [
    {
     "data": {
      "text/html": [
       "<div>\n",
       "<style scoped>\n",
       "    .dataframe tbody tr th:only-of-type {\n",
       "        vertical-align: middle;\n",
       "    }\n",
       "\n",
       "    .dataframe tbody tr th {\n",
       "        vertical-align: top;\n",
       "    }\n",
       "\n",
       "    .dataframe thead th {\n",
       "        text-align: right;\n",
       "    }\n",
       "</style>\n",
       "<table border=\"1\" class=\"dataframe\">\n",
       "  <thead>\n",
       "    <tr style=\"text-align: right;\">\n",
       "      <th></th>\n",
       "      <th>income</th>\n",
       "      <th>age</th>\n",
       "      <th>loan</th>\n",
       "      <th>default</th>\n",
       "    </tr>\n",
       "  </thead>\n",
       "  <tbody>\n",
       "    <tr>\n",
       "      <th>0</th>\n",
       "      <td>66155.92510</td>\n",
       "      <td>59.017015</td>\n",
       "      <td>8106.532131</td>\n",
       "      <td>0</td>\n",
       "    </tr>\n",
       "    <tr>\n",
       "      <th>1</th>\n",
       "      <td>34415.15397</td>\n",
       "      <td>48.117153</td>\n",
       "      <td>6564.745018</td>\n",
       "      <td>0</td>\n",
       "    </tr>\n",
       "    <tr>\n",
       "      <th>2</th>\n",
       "      <td>57317.17006</td>\n",
       "      <td>63.108049</td>\n",
       "      <td>8020.953296</td>\n",
       "      <td>0</td>\n",
       "    </tr>\n",
       "    <tr>\n",
       "      <th>3</th>\n",
       "      <td>42709.53420</td>\n",
       "      <td>45.751972</td>\n",
       "      <td>6103.642260</td>\n",
       "      <td>0</td>\n",
       "    </tr>\n",
       "    <tr>\n",
       "      <th>4</th>\n",
       "      <td>66952.68885</td>\n",
       "      <td>18.584336</td>\n",
       "      <td>8770.099235</td>\n",
       "      <td>1</td>\n",
       "    </tr>\n",
       "  </tbody>\n",
       "</table>\n",
       "</div>"
      ],
      "text/plain": [
       "        income        age         loan  default\n",
       "0  66155.92510  59.017015  8106.532131        0\n",
       "1  34415.15397  48.117153  6564.745018        0\n",
       "2  57317.17006  63.108049  8020.953296        0\n",
       "3  42709.53420  45.751972  6103.642260        0\n",
       "4  66952.68885  18.584336  8770.099235        1"
      ]
     },
     "execution_count": 4,
     "metadata": {},
     "output_type": "execute_result"
    }
   ],
   "source": [
    "ccd.head()"
   ]
  },
  {
   "cell_type": "code",
   "execution_count": 5,
   "id": "ec354d3b",
   "metadata": {
    "ExecuteTime": {
     "end_time": "2022-04-09T05:48:02.906243Z",
     "start_time": "2022-04-09T05:48:02.874576Z"
    }
   },
   "outputs": [
    {
     "data": {
      "text/plain": [
       "(3428, 4)"
      ]
     },
     "execution_count": 5,
     "metadata": {},
     "output_type": "execute_result"
    }
   ],
   "source": [
    "ccd.shape"
   ]
  },
  {
   "cell_type": "markdown",
   "id": "b39fd237",
   "metadata": {},
   "source": [
    "## Split Dataset"
   ]
  },
  {
   "cell_type": "code",
   "execution_count": 8,
   "id": "47792b68",
   "metadata": {
    "ExecuteTime": {
     "end_time": "2022-04-09T05:52:46.285153Z",
     "start_time": "2022-04-09T05:52:46.253891Z"
    }
   },
   "outputs": [],
   "source": [
    "x = ccd[['income', 'age', 'loan']]"
   ]
  },
  {
   "cell_type": "code",
   "execution_count": 9,
   "id": "2d4e7f10",
   "metadata": {
    "ExecuteTime": {
     "end_time": "2022-04-09T05:53:00.320544Z",
     "start_time": "2022-04-09T05:53:00.288963Z"
    }
   },
   "outputs": [],
   "source": [
    "y = ccd['default']"
   ]
  },
  {
   "cell_type": "code",
   "execution_count": 11,
   "id": "f004af06",
   "metadata": {
    "ExecuteTime": {
     "end_time": "2022-04-09T05:56:24.404159Z",
     "start_time": "2022-04-09T05:56:24.388523Z"
    }
   },
   "outputs": [],
   "source": [
    "x_train, x_test, y_train, y_test = train_test_split(x,y)"
   ]
  },
  {
   "cell_type": "markdown",
   "id": "0dce6cb2",
   "metadata": {},
   "source": [
    "## Trian/Test Models"
   ]
  },
  {
   "cell_type": "markdown",
   "id": "6fabea0b",
   "metadata": {},
   "source": [
    "### Decision Tree"
   ]
  },
  {
   "cell_type": "code",
   "execution_count": 32,
   "id": "fd3cfc9a",
   "metadata": {
    "ExecuteTime": {
     "end_time": "2022-04-09T06:07:07.369351Z",
     "start_time": "2022-04-09T06:07:07.359325Z"
    }
   },
   "outputs": [],
   "source": [
    "model1 = tree.DecisionTreeClassifier(max_depth = 2)"
   ]
  },
  {
   "cell_type": "code",
   "execution_count": 33,
   "id": "c163b437",
   "metadata": {
    "ExecuteTime": {
     "end_time": "2022-04-09T06:07:07.813503Z",
     "start_time": "2022-04-09T06:07:07.781905Z"
    }
   },
   "outputs": [
    {
     "data": {
      "text/plain": [
       "DecisionTreeClassifier(max_depth=2)"
      ]
     },
     "execution_count": 33,
     "metadata": {},
     "output_type": "execute_result"
    }
   ],
   "source": [
    "model1.fit(x_train, y_train) #train on train set"
   ]
  },
  {
   "cell_type": "code",
   "execution_count": 34,
   "id": "397d9636",
   "metadata": {
    "ExecuteTime": {
     "end_time": "2022-04-09T06:07:08.660360Z",
     "start_time": "2022-04-09T06:07:08.629274Z"
    }
   },
   "outputs": [],
   "source": [
    "pred1 = model1.predict(x_test) #predict on test set"
   ]
  },
  {
   "cell_type": "code",
   "execution_count": 35,
   "id": "b24586d5",
   "metadata": {
    "ExecuteTime": {
     "end_time": "2022-04-09T06:07:09.571436Z",
     "start_time": "2022-04-09T06:07:09.563441Z"
    }
   },
   "outputs": [],
   "source": [
    "cm1 = confusion_matrix(y_test, pred1)"
   ]
  },
  {
   "cell_type": "code",
   "execution_count": 36,
   "id": "7269ac90",
   "metadata": {
    "ExecuteTime": {
     "end_time": "2022-04-09T06:07:10.015889Z",
     "start_time": "2022-04-09T06:07:10.000266Z"
    }
   },
   "outputs": [
    {
     "data": {
      "text/plain": [
       "array([[359,  57],\n",
       "       [  2, 439]], dtype=int64)"
      ]
     },
     "execution_count": 36,
     "metadata": {},
     "output_type": "execute_result"
    }
   ],
   "source": [
    "cm1"
   ]
  },
  {
   "cell_type": "code",
   "execution_count": 37,
   "id": "b60c20d0",
   "metadata": {
    "ExecuteTime": {
     "end_time": "2022-04-09T06:07:10.580655Z",
     "start_time": "2022-04-09T06:07:10.565475Z"
    }
   },
   "outputs": [],
   "source": [
    "accuracy1 = (cm1[0,0] + cm1[1,1])/(sum(sum(cm1)))"
   ]
  },
  {
   "cell_type": "code",
   "execution_count": 38,
   "id": "f684380b",
   "metadata": {
    "ExecuteTime": {
     "end_time": "2022-04-09T06:07:11.051769Z",
     "start_time": "2022-04-09T06:07:11.035870Z"
    }
   },
   "outputs": [
    {
     "data": {
      "text/plain": [
       "0.9311551925320887"
      ]
     },
     "execution_count": 38,
     "metadata": {},
     "output_type": "execute_result"
    }
   ],
   "source": [
    "accuracy1"
   ]
  },
  {
   "cell_type": "markdown",
   "id": "2fa54997",
   "metadata": {},
   "source": [
    "### Gradient Boosting Classifier"
   ]
  },
  {
   "cell_type": "code",
   "execution_count": 39,
   "id": "f59c4bfb",
   "metadata": {
    "ExecuteTime": {
     "end_time": "2022-04-09T06:07:15.784988Z",
     "start_time": "2022-04-09T06:07:15.768970Z"
    }
   },
   "outputs": [],
   "source": [
    "model2 = GradientBoostingClassifier(max_depth=2)"
   ]
  },
  {
   "cell_type": "code",
   "execution_count": 40,
   "id": "9f54d1f7",
   "metadata": {
    "ExecuteTime": {
     "end_time": "2022-04-09T06:08:16.138750Z",
     "start_time": "2022-04-09T06:08:15.682764Z"
    }
   },
   "outputs": [
    {
     "data": {
      "text/plain": [
       "GradientBoostingClassifier(max_depth=2)"
      ]
     },
     "execution_count": 40,
     "metadata": {},
     "output_type": "execute_result"
    }
   ],
   "source": [
    "model2.fit(x_train, y_train) #train on train set"
   ]
  },
  {
   "cell_type": "code",
   "execution_count": 42,
   "id": "e0e79d04",
   "metadata": {
    "ExecuteTime": {
     "end_time": "2022-04-09T06:10:02.385536Z",
     "start_time": "2022-04-09T06:10:02.353965Z"
    }
   },
   "outputs": [],
   "source": [
    "pred2 = model2.predict(x_test) #predict on test set"
   ]
  },
  {
   "cell_type": "code",
   "execution_count": 43,
   "id": "ff59dd22",
   "metadata": {
    "ExecuteTime": {
     "end_time": "2022-04-09T06:10:24.153751Z",
     "start_time": "2022-04-09T06:10:24.122045Z"
    }
   },
   "outputs": [],
   "source": [
    "cm2 = confusion_matrix(y_test, pred2)"
   ]
  },
  {
   "cell_type": "code",
   "execution_count": 44,
   "id": "d1914638",
   "metadata": {
    "ExecuteTime": {
     "end_time": "2022-04-09T06:10:26.373361Z",
     "start_time": "2022-04-09T06:10:26.341954Z"
    }
   },
   "outputs": [
    {
     "data": {
      "text/plain": [
       "array([[396,  20],\n",
       "       [  0, 441]], dtype=int64)"
      ]
     },
     "execution_count": 44,
     "metadata": {},
     "output_type": "execute_result"
    }
   ],
   "source": [
    "cm2"
   ]
  },
  {
   "cell_type": "code",
   "execution_count": 45,
   "id": "49b5d311",
   "metadata": {
    "ExecuteTime": {
     "end_time": "2022-04-09T06:10:44.055555Z",
     "start_time": "2022-04-09T06:10:44.024142Z"
    }
   },
   "outputs": [],
   "source": [
    "accuracy2 = (cm2[0,0] + cm2[1,1])/(sum(sum(cm2)))"
   ]
  },
  {
   "cell_type": "code",
   "execution_count": 46,
   "id": "5b5da8ad",
   "metadata": {
    "ExecuteTime": {
     "end_time": "2022-04-09T06:10:48.812366Z",
     "start_time": "2022-04-09T06:10:48.796728Z"
    }
   },
   "outputs": [
    {
     "data": {
      "text/plain": [
       "0.9766627771295215"
      ]
     },
     "execution_count": 46,
     "metadata": {},
     "output_type": "execute_result"
    }
   ],
   "source": [
    "accuracy2"
   ]
  },
  {
   "cell_type": "markdown",
   "id": "ec15c51b",
   "metadata": {},
   "source": [
    "### Linear Regression"
   ]
  },
  {
   "cell_type": "code",
   "execution_count": 48,
   "id": "7b8c22b4",
   "metadata": {
    "ExecuteTime": {
     "end_time": "2022-04-09T06:14:06.405927Z",
     "start_time": "2022-04-09T06:14:06.395420Z"
    }
   },
   "outputs": [],
   "source": [
    "model3 = linear_model.LogisticRegression()"
   ]
  },
  {
   "cell_type": "code",
   "execution_count": 49,
   "id": "f8e6eddd",
   "metadata": {
    "ExecuteTime": {
     "end_time": "2022-04-09T06:14:21.241461Z",
     "start_time": "2022-04-09T06:14:21.131629Z"
    }
   },
   "outputs": [
    {
     "data": {
      "text/plain": [
       "LogisticRegression()"
      ]
     },
     "execution_count": 49,
     "metadata": {},
     "output_type": "execute_result"
    }
   ],
   "source": [
    "model3.fit(x_train, y_train) #train on train set"
   ]
  },
  {
   "cell_type": "code",
   "execution_count": 50,
   "id": "77282f3e",
   "metadata": {
    "ExecuteTime": {
     "end_time": "2022-04-09T06:14:39.978059Z",
     "start_time": "2022-04-09T06:14:39.962285Z"
    }
   },
   "outputs": [],
   "source": [
    "pred3 = model3.predict(x_test) #predict on test set"
   ]
  },
  {
   "cell_type": "code",
   "execution_count": 51,
   "id": "b8775926",
   "metadata": {
    "ExecuteTime": {
     "end_time": "2022-04-09T06:14:56.188708Z",
     "start_time": "2022-04-09T06:14:56.156998Z"
    }
   },
   "outputs": [],
   "source": [
    "cm3 = confusion_matrix(y_test, pred3)"
   ]
  },
  {
   "cell_type": "code",
   "execution_count": 52,
   "id": "a388648f",
   "metadata": {
    "ExecuteTime": {
     "end_time": "2022-04-09T06:15:17.024062Z",
     "start_time": "2022-04-09T06:15:16.992362Z"
    }
   },
   "outputs": [],
   "source": [
    "accuracy3 = (cm3[0,0] + cm3[1,1])/(sum(sum(cm3)))"
   ]
  },
  {
   "cell_type": "code",
   "execution_count": 53,
   "id": "0b34472d",
   "metadata": {
    "ExecuteTime": {
     "end_time": "2022-04-09T06:15:20.460544Z",
     "start_time": "2022-04-09T06:15:20.429393Z"
    }
   },
   "outputs": [
    {
     "data": {
      "text/plain": [
       "0.9556592765460911"
      ]
     },
     "execution_count": 53,
     "metadata": {},
     "output_type": "execute_result"
    }
   ],
   "source": [
    "accuracy3 "
   ]
  },
  {
   "cell_type": "markdown",
   "id": "944197e1",
   "metadata": {},
   "source": [
    "## Importing Models"
   ]
  },
  {
   "cell_type": "code",
   "execution_count": 56,
   "id": "447d2467",
   "metadata": {
    "ExecuteTime": {
     "end_time": "2022-04-09T06:32:15.165482Z",
     "start_time": "2022-04-09T06:32:15.133878Z"
    }
   },
   "outputs": [
    {
     "data": {
      "text/plain": [
       "['DecisionTree']"
      ]
     },
     "execution_count": 56,
     "metadata": {},
     "output_type": "execute_result"
    }
   ],
   "source": [
    "joblib.dump(model1, \"DecisionTree\")"
   ]
  },
  {
   "cell_type": "code",
   "execution_count": 57,
   "id": "98131b33",
   "metadata": {
    "ExecuteTime": {
     "end_time": "2022-04-09T06:32:18.017167Z",
     "start_time": "2022-04-09T06:32:17.970432Z"
    }
   },
   "outputs": [
    {
     "data": {
      "text/plain": [
       "['GradientBoost']"
      ]
     },
     "execution_count": 57,
     "metadata": {},
     "output_type": "execute_result"
    }
   ],
   "source": [
    "joblib.dump(model2, \"GradientBoost\")"
   ]
  },
  {
   "cell_type": "code",
   "execution_count": 58,
   "id": "da4d6979",
   "metadata": {
    "ExecuteTime": {
     "end_time": "2022-04-09T06:32:49.731002Z",
     "start_time": "2022-04-09T06:32:49.699354Z"
    }
   },
   "outputs": [
    {
     "data": {
      "text/plain": [
       "['LinearRegression']"
      ]
     },
     "execution_count": 58,
     "metadata": {},
     "output_type": "execute_result"
    }
   ],
   "source": [
    "joblib.dump(model3, \"LinearRegression\")"
   ]
  },
  {
   "cell_type": "code",
   "execution_count": null,
   "id": "72d15b77",
   "metadata": {},
   "outputs": [],
   "source": []
  }
 ],
 "metadata": {
  "hide_input": false,
  "kernelspec": {
   "display_name": "Python 3 (ipykernel)",
   "language": "python",
   "name": "python3"
  },
  "language_info": {
   "codemirror_mode": {
    "name": "ipython",
    "version": 3
   },
   "file_extension": ".py",
   "mimetype": "text/x-python",
   "name": "python",
   "nbconvert_exporter": "python",
   "pygments_lexer": "ipython3",
   "version": "3.9.7"
  },
  "notify_time": "5",
  "toc": {
   "base_numbering": 1,
   "nav_menu": {},
   "number_sections": true,
   "sideBar": true,
   "skip_h1_title": false,
   "title_cell": "Table of Contents",
   "title_sidebar": "Contents",
   "toc_cell": false,
   "toc_position": {},
   "toc_section_display": true,
   "toc_window_display": false
  }
 },
 "nbformat": 4,
 "nbformat_minor": 5
}
